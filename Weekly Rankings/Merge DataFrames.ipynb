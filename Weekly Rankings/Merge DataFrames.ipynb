{
 "cells": [
  {
   "cell_type": "code",
   "execution_count": 1,
   "id": "958329d6",
   "metadata": {},
   "outputs": [],
   "source": [
    "import pandas as pd\n",
    "import numpy as np\n",
    "import json\n",
    "import pprint"
   ]
  },
  {
   "cell_type": "code",
   "execution_count": 3,
   "id": "ec1c2894",
   "metadata": {},
   "outputs": [],
   "source": [
    "week_1 = \"../inputs/Half_PPR_Week_1_FLX_Rankings.csv\"\n",
    "week_2 = \"../inputs/Half_PPR_Week_2_FLX_Rankings.csv\"\n",
    "week_3 = \"../inputs/Half_PPR_Week_3_FLX_Rankings.csv\"\n",
    "week_4 = \"../inputs/Half_PPR_Week_4_FLX_Rankings.csv\"\n",
    "week_5 = \"../inputs/Half_PPR_Week_5_FLX_Rankings.csv\"\n",
    "week_6 = \"../inputs/Half_PPR_Week_6_FLX_Rankings.csv\"\n",
    "week_7 = \"../inputs/Half_PPR_Week_7_FLX_Rankings.csv\""
   ]
  },
  {
   "cell_type": "code",
   "execution_count": null,
   "id": "c4b23de8",
   "metadata": {},
   "outputs": [],
   "source": [
    "combined_week_1_2 = pd.merge(week_1, week_2,\n",
    "                                 how='outer', on='Wrestler')"
   ]
  },
  {
   "cell_type": "code",
   "execution_count": null,
   "id": "4478ba62",
   "metadata": {},
   "outputs": [],
   "source": []
  }
 ],
 "metadata": {
  "kernelspec": {
   "display_name": "Python 3",
   "language": "python",
   "name": "python3"
  },
  "language_info": {
   "codemirror_mode": {
    "name": "ipython",
    "version": 3
   },
   "file_extension": ".py",
   "mimetype": "text/x-python",
   "name": "python",
   "nbconvert_exporter": "python",
   "pygments_lexer": "ipython3",
   "version": "3.8.8"
  }
 },
 "nbformat": 4,
 "nbformat_minor": 5
}
