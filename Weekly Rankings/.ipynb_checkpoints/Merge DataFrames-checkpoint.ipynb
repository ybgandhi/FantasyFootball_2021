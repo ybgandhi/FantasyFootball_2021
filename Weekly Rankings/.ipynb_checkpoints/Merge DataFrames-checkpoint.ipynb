{
 "cells": [
  {
   "cell_type": "code",
   "execution_count": 1,
   "id": "74b6158b",
   "metadata": {},
   "outputs": [],
   "source": [
    "import pandas as pd\n",
    "import numpy as np\n",
    "import json\n",
    "import pprint"
   ]
  },
  {
   "cell_type": "code",
   "execution_count": 5,
   "id": "22cb2647",
   "metadata": {},
   "outputs": [],
   "source": [
    "#week_1 = \"../inputs/Half_PPR_Week_1_FLX_Rankings.csv\"\n",
    "week_2 = \"inputs/Half_PPR_Week_2_FLX_Rankings.csv\"\n",
    "week_3 = \"inputs/Half_PPR_Week_3_FLX_Rankings.csv\"\n",
    "week_4 = \"inputs/Half_PPR_Week_4_FLX_Rankings.csv\"\n",
    "week_5 = \"inputs/Half_PPR_Week_5_FLX_Rankings.csv\"\n",
    "week_6 = \"inputs/Half_PPR_Week_6_FLX_Rankings.csv\"\n",
    "week_7 = \"inputs/Half_PPR_Week_7_FLX_Rankings.csv\"\n",
    "week_8 = \"inputs/Half_PPR_Week_8_FLX_Rankings.csv\"\n",
    "week_9 = \"inputs/Half_PPR_Week_9_FLX_Rankings.csv\"\n",
    "week_10 = \"inputs/Half_PPR_Week_10_FLX_Rankings.csv\"\n",
    "\n",
    "\n",
    "#week_1_df = pd.read_csv(week_1)\n",
    "week_2_df = pd.read_csv(week_2)\n",
    "week_3_df = pd.read_csv(week_3)\n",
    "week_4_df = pd.read_csv(week_4)\n",
    "week_5_df = pd.read_csv(week_5)\n",
    "week_6_df = pd.read_csv(week_6)\n",
    "week_7_df = pd.read_csv(week_7)\n",
    "week_8_df = pd.read_csv(week_8)\n",
    "week_9_df = pd.read_csv(week_9)\n",
    "week_10_df = pd.read_csv(week_10)\n"
   ]
  },
  {
   "cell_type": "code",
   "execution_count": 7,
   "id": "26d7ae9d",
   "metadata": {},
   "outputs": [
    {
     "ename": "NameError",
     "evalue": "name 'week_1_df' is not defined",
     "output_type": "error",
     "traceback": [
      "\u001b[0;31m---------------------------------------------------------------------------\u001b[0m",
      "\u001b[0;31mNameError\u001b[0m                                 Traceback (most recent call last)",
      "\u001b[0;32m<ipython-input-7-55b72b4a4992>\u001b[0m in \u001b[0;36m<module>\u001b[0;34m\u001b[0m\n\u001b[0;32m----> 1\u001b[0;31m combined_week_1_2 = pd.merge(week_1_df, week_2_df,\n\u001b[0m\u001b[1;32m      2\u001b[0m                                  how='outer', on='PLAYER NAME')\n\u001b[1;32m      3\u001b[0m \u001b[0mcombined_week_1_2\u001b[0m\u001b[0;34m.\u001b[0m\u001b[0mhead\u001b[0m\u001b[0;34m(\u001b[0m\u001b[0;34m)\u001b[0m\u001b[0;34m\u001b[0m\u001b[0;34m\u001b[0m\u001b[0m\n",
      "\u001b[0;31mNameError\u001b[0m: name 'week_1_df' is not defined"
     ]
    }
   ],
   "source": [
    "combined_week_1_2 = pd.merge(week_2_df, week_3_df,\n",
    "                                 how='outer', on='PLAYER NAME')\n",
    "combined_week_1_2.head()"
   ]
  },
  {
   "cell_type": "code",
   "execution_count": null,
   "id": "9725e2d5",
   "metadata": {},
   "outputs": [],
   "source": []
  }
 ],
 "metadata": {
  "kernelspec": {
   "display_name": "Python 3 (ipykernel)",
   "language": "python",
   "name": "python3"
  },
  "language_info": {
   "codemirror_mode": {
    "name": "ipython",
    "version": 3
   },
   "file_extension": ".py",
   "mimetype": "text/x-python",
   "name": "python",
   "nbconvert_exporter": "python",
   "pygments_lexer": "ipython3",
   "version": "3.9.7"
  }
 },
 "nbformat": 4,
 "nbformat_minor": 5
}
