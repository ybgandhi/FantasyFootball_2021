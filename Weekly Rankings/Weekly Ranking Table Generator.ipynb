{
 "cells": [
  {
   "cell_type": "code",
   "execution_count": 6,
   "id": "7dcf9e39",
   "metadata": {},
   "outputs": [],
   "source": [
    "import pandas as pd\n",
    "import os\n",
    "import numpy\n"
   ]
  },
  {
   "cell_type": "code",
   "execution_count": 7,
   "id": "d0de0f8a",
   "metadata": {},
   "outputs": [],
   "source": [
    "weeks = [\"2\",\"3\"]"
   ]
  },
  {
   "cell_type": "code",
   "execution_count": 12,
   "id": "c3c0a3b2",
   "metadata": {},
   "outputs": [],
   "source": [
    "csv_part1 = \"inputs/Half_PPR_Week_\"\n",
    "csv_part2 = \"_FLX_Rankings.csv\"\n",
    "\n"
   ]
  },
  {
   "cell_type": "code",
   "execution_count": 13,
   "id": "8a5235c0",
   "metadata": {},
   "outputs": [
    {
     "name": "stdout",
     "output_type": "stream",
     "text": [
      "    Team                 Name Position Position Rank  Ceiling  Average  Floor  \\\n",
      "RK                                                                              \n",
      "1    CAR  Christian McCaffrey       RB             1        1      1.3      8   \n",
      "2    MIN          Dalvin Cook       RB             2        1      2.8      8   \n",
      "3     NO         Alvin Kamara       RB             3        1      3.6      8   \n",
      "4     GB        Davante Adams       WR             1        3      4.5     17   \n",
      "5     KC          Tyreek Hill       WR             2        4      5.8     20   \n",
      "..   ...                  ...      ...           ...      ...      ...    ...   \n",
      "425   NE       Matthew Slater       WR           183      373    391.0    419   \n",
      "426  DET        Jared Pinkney       TE           112      369    383.5    398   \n",
      "427  CHI       Nsimba Webster       WR           184      362    395.0    418   \n",
      "428   TB          Deon Yelder       TE           113      373    392.0    411   \n",
      "429  CIN        Trenton Irwin       WR           185      405    407.0    409   \n",
      "\n",
      "     Standard Deviation  \n",
      "RK                       \n",
      "1                   1.0  \n",
      "2                   1.7  \n",
      "3                   1.7  \n",
      "4                   1.6  \n",
      "5                   2.6  \n",
      "..                  ...  \n",
      "425                20.1  \n",
      "426                14.5  \n",
      "427                23.9  \n",
      "428                19.0  \n",
      "429                 2.0  \n",
      "\n",
      "[429 rows x 8 columns]\n",
      "inputs/Half_PPR_Week_2_FLX_Rankings.csv\n",
      "    Team                 Name Position Position Rank  Ceiling  Average  Floor  \\\n",
      "RK                                                                              \n",
      "1    CAR  Christian McCaffrey       RB             1        1      1.0      1   \n",
      "2    MIN          Dalvin Cook       RB             2        2      2.3      4   \n",
      "3    TEN        Derrick Henry       RB             3        2      2.8      3   \n",
      "4     GB        Davante Adams       WR             1        5      5.6      9   \n",
      "5     KC          Tyreek Hill       WR             2        5      5.9      9   \n",
      "..   ...                  ...      ...           ...      ...      ...    ...   \n",
      "309   TB        Scotty Miller       WR           128      287    309.0    331   \n",
      "310  BAL        Tylan Wallace       WR           129      289    317.0    345   \n",
      "311  MIN       Dede Westbrook       WR           130      297    302.5    308   \n",
      "312  ARI        Andy Isabella       WR           131      296    314.0    332   \n",
      "313  DAL          Simi Fehoko       WR           132      302    315.0    328   \n",
      "\n",
      "     Standard Deviation  \n",
      "RK                       \n",
      "1                   0.0  \n",
      "2                   0.6  \n",
      "3                   0.4  \n",
      "4                   1.0  \n",
      "5                   0.8  \n",
      "..                  ...  \n",
      "309                22.0  \n",
      "310                28.0  \n",
      "311                 5.5  \n",
      "312                18.0  \n",
      "313                13.0  \n",
      "\n",
      "[313 rows x 8 columns]\n",
      "inputs/Half_PPR_Week_3_FLX_Rankings.csv\n"
     ]
    },
    {
     "name": "stderr",
     "output_type": "stream",
     "text": [
      "<ipython-input-13-54cbd8e8c3cd>:10: FutureWarning: The default value of regex will change from True to False in a future version.\n",
      "  df[\"Position\"] = df[\"POS\"].str.replace('[^a-zA-Z]','')\n",
      "<ipython-input-13-54cbd8e8c3cd>:10: FutureWarning: The default value of regex will change from True to False in a future version.\n",
      "  df[\"Position\"] = df[\"POS\"].str.replace('[^a-zA-Z]','')\n"
     ]
    }
   ],
   "source": [
    "for x in weeks:\n",
    "    \n",
    "    csv_full = csv_part1 + x + csv_part2\n",
    "    raw_df = pd.read_csv(csv_full)\n",
    "    df = raw_df\n",
    "    ###\n",
    "    #ETL\n",
    "    ##\n",
    "    ## line of script to create Position Column\n",
    "    df[\"Position\"] = df[\"POS\"].str.replace('[^a-zA-Z]','')\n",
    "    ## line of script to create Position Rank Column\n",
    "    df[\"Position Rank\"] = df[\"POS\"].str.extract('(\\d+)',expand=False)\n",
    "    ## Rename columns\n",
    "    df = df.rename(columns={'TEAM':'Team','BEST':'Ceiling',\n",
    "                        'WORST':'Floor','AVG.':'Average',\n",
    "                        'STD.DEV':'Standard Deviation',\n",
    "                       'PLAYER NAME':'Name'})\n",
    "    ## new df to export into csv\n",
    "    new_df = df[[\"RK\",\"Team\",\"Name\",\"Position\",\"Position Rank\",\"Ceiling\",\"Average\",\"Floor\",\"Standard Deviation\"]]\n",
    "    new_df = new_df.set_index(\"RK\")\n",
    "    new_df.to_csv(\"outputs/Week_\" + x + \"_Half_FLX.csv\")\n",
    "    \n",
    "    ###\n",
    "    print(new_df)\n",
    "    print(csv_full)\n"
   ]
  },
  {
   "cell_type": "code",
   "execution_count": null,
   "id": "12de1578",
   "metadata": {},
   "outputs": [],
   "source": []
  },
  {
   "cell_type": "code",
   "execution_count": null,
   "id": "e5e06b86",
   "metadata": {},
   "outputs": [],
   "source": [
    "## use this space to break down file in increments\n"
   ]
  },
  {
   "cell_type": "code",
   "execution_count": null,
   "id": "b10616d1",
   "metadata": {},
   "outputs": [],
   "source": [
    "df = pd.read_csv(\"Half_PPR_Week_2_FLX_Rankings.csv\")\n",
    "df"
   ]
  },
  {
   "cell_type": "code",
   "execution_count": null,
   "id": "83cd14c3",
   "metadata": {},
   "outputs": [],
   "source": [
    "## line of script to create Position Column\n",
    "df[\"Position\"] = df[\"POS\"].str.replace('[^a-zA-Z]','')\n",
    "## line of script to create Position Rank Column\n",
    "df[\"Position Rank\"] = df[\"POS\"].str.extract('(\\d+)',expand=False)\n",
    "df = df.rename(columns={'TEAM':'Team','BEST':'Ceiling',\n",
    "                        'WORST':'Floor','AVG.':'Average',\n",
    "                        'STD.DEV':'Standard Deviation',\n",
    "                       'PLAYER NAME':'Name'})\n",
    "df"
   ]
  },
  {
   "cell_type": "code",
   "execution_count": null,
   "id": "68466c09",
   "metadata": {},
   "outputs": [],
   "source": [
    "new_df = df[[\"RK\",\"Team\",\"Name\",\"Position\",\"Position Rank\",\"Ceiling\",\"Average\",\"Floor\",\"Standard Deviation\"]]\n",
    "new_df = new_df.set_index(\"RK\")\n",
    "new_df"
   ]
  },
  {
   "cell_type": "code",
   "execution_count": null,
   "id": "afdccd65",
   "metadata": {},
   "outputs": [],
   "source": [
    "new_df.to_csv(\"testing.csv\")"
   ]
  },
  {
   "cell_type": "code",
   "execution_count": null,
   "id": "9f4a582a",
   "metadata": {},
   "outputs": [],
   "source": []
  }
 ],
 "metadata": {
  "kernelspec": {
   "display_name": "Python 3",
   "language": "python",
   "name": "python3"
  },
  "language_info": {
   "codemirror_mode": {
    "name": "ipython",
    "version": 3
   },
   "file_extension": ".py",
   "mimetype": "text/x-python",
   "name": "python",
   "nbconvert_exporter": "python",
   "pygments_lexer": "ipython3",
   "version": "3.8.8"
  }
 },
 "nbformat": 4,
 "nbformat_minor": 5
}
