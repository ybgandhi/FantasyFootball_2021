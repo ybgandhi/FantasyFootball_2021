{
 "cells": [
  {
   "cell_type": "code",
   "execution_count": null,
   "id": "7dcf9e39",
   "metadata": {},
   "outputs": [],
   "source": [
    "import pandas as pd\n",
    "import os\n",
    "import numpy as np\n",
    "import json\n",
    "import pprint"
   ]
  },
  {
   "cell_type": "code",
   "execution_count": null,
   "id": "d0de0f8a",
   "metadata": {},
   "outputs": [],
   "source": [
    "weeks = [\"2\",\"3\",\"4\",\"5\",\"6\",\"7\"]"
   ]
  },
  {
   "cell_type": "code",
   "execution_count": null,
   "id": "c3c0a3b2",
   "metadata": {},
   "outputs": [],
   "source": [
    "csv_part1 = \"inputs/Half_PPR_Week_\"\n",
    "csv_part2 = \"_FLX_Rankings.csv\""
   ]
  },
  {
   "cell_type": "code",
   "execution_count": null,
   "id": "8a5235c0",
   "metadata": {},
   "outputs": [],
   "source": [
    "loop_df = pd.DataFrame(columns=['Team','Name','Position'])\n",
    "df_list = []\n",
    "for x in weeks:\n",
    "    \n",
    "    csv_full = csv_part1 + x + csv_part2\n",
    "    raw_df = pd.read_csv(csv_full)\n",
    "    df = raw_df\n",
    "    ###\n",
    "    #ETL\n",
    "    ##\n",
    "    ## line of script to create Position Column\n",
    "    df[\"Position\"] = df[\"POS\"].str.replace('[^a-zA-Z]','')\n",
    "    ## line of script to create Position Rank Column\n",
    "    df[\"Position Rank\"] = df[\"POS\"].str.extract('(\\d+)',expand=False)\n",
    "    ## Rename columns\n",
    "    df = df.rename(columns={'TEAM':'Team','BEST':'Ceiling',\n",
    "                        'WORST':'Floor','AVG.':'Average',\n",
    "                        'STD.DEV':'Standard Deviation',\n",
    "                       'PLAYER NAME':'Name'})\n",
    "    ## new df to export into csv\n",
    "    new_df = df[[\"RK\",\"Team\",\"Name\",\"Position\",\"Position Rank\",\"Ceiling\",\"Average\",\"Floor\",\"Standard Deviation\"]]\n",
    "    new_df = new_df.set_index(\"RK\")\n",
    "    new_df.to_csv(\"outputs/Week_\" + x + \"_Half_FLX.csv\")\n",
    "    new_df.to_html(\"outputs/Week_\" + x + \"_Half_FLX.html\")\n",
    "    new_df.to_json(\"outputs/Week_\" + x + \"_Half_FLX.json\")\n",
    "    \n",
    "    #loop_df = loop_df.merge(new_df, on=['Team','Name','Position'])\n",
    "    #loop_df = loop_df.rename(columns={\"Position Rank_x\":\"Week \"+x+\" Position Rank\",\n",
    "     #                                \"Ceiling_x\":\"Week \"+x+\" Ceiling\",\n",
    "      #                               \"Average_x\": \"Week \"+x+\" Average\",\n",
    "       #                              \"Floor_x\": \"Week \"+x+\" Floor\",\n",
    "        #                             \"Standard Deviation_x\": \"Week \"+x+\" SD\" })\n",
    "    \n",
    "    \n",
    "    ###\n",
    "    print(new_df)\n",
    "    print(csv_full)\n"
   ]
  },
  {
   "cell_type": "code",
   "execution_count": null,
   "id": "194d9f90",
   "metadata": {},
   "outputs": [],
   "source": [
    "week_2 = pd.read_json(\"outputs/Week_2_Half_FLX.json\")\n",
    "week_3 = pd.read_json(\"outputs/Week_3_Half_FLX.json\")\n",
    "week_4 = pd.read_json(\"outputs/Week_4_Half_FLX.json\")\n",
    "week_5 = pd.read_json(\"outputs/Week_5_Half_FLX.json\")\n",
    "week_6 = pd.read_json(\"outputs/Week_6_Half_FLX.json\")\n",
    "week_7 = pd.read_json(\"outputs/Week_7_Half_FLX.json\")"
   ]
  },
  {
   "cell_type": "code",
   "execution_count": null,
   "id": "e5e06b86",
   "metadata": {},
   "outputs": [],
   "source": [
    "df_list = [week_2, week_3, week_4,week_5,week_6,week_7]\n",
    "merged = pd.concat(df_list)\n",
    "#merged.to_json(\"outputs/merged.json\")\n",
    "#merged.to_html(\"outputs/merged.html\")"
   ]
  },
  {
   "cell_type": "code",
   "execution_count": null,
   "id": "b10616d1",
   "metadata": {},
   "outputs": [],
   "source": [
    "test = dict(zip(weeks, df_list))\n",
    "print(test)"
   ]
  },
  {
   "cell_type": "code",
   "execution_count": null,
   "id": "68466c09",
   "metadata": {},
   "outputs": [],
   "source": [
    "print(type(test))"
   ]
  },
  {
   "cell_type": "code",
   "execution_count": null,
   "id": "c8ef8e89",
   "metadata": {},
   "outputs": [],
   "source": [
    "json_object = json.dumps(test, default=lambda indent = 4)\n",
    "pprint.pprint(json_object)"
   ]
  },
  {
   "cell_type": "code",
   "execution_count": null,
   "id": "5e6efff5",
   "metadata": {},
   "outputs": [],
   "source": [
    "json_object = json.dumps(test, default=lambda df: json.loads(df.to_json()))\n",
    "print(json_object)"
   ]
  },
  {
   "cell_type": "code",
   "execution_count": null,
   "id": "e5416e96",
   "metadata": {},
   "outputs": [],
   "source": [
    "#with open('outputs/test.json', 'w') as outfile: \n",
    "    #json.dump(json_object,outfile)\n",
    "x = open('outputs/test2.json','w')\n",
    "x.write(json_object)\n",
    "x.close()"
   ]
  },
  {
   "cell_type": "code",
   "execution_count": null,
   "id": "12de1578",
   "metadata": {},
   "outputs": [],
   "source": [
    "#loop_df = loop_df.merge(new_df, on=['Team','Name','Position'])\n",
    "#loop_df = loop_df.rename(columns={\"Position Rank_x\":\"Week \"+x+\" Position Rank\",\n",
    "#                                     \"Ceiling_x\":\"Week \"+x+\" Ceiling\",\n",
    "#                                     \"Average_x\": \"Week \"+x+\" Average\",\n",
    "#                                     \"Floor_x\": \"Week \"+x+\" Floor\",\n",
    "#                                     \"Standard Deviation_x\": \"Week \"+x+\" SD\" })"
   ]
  },
  {
   "cell_type": "code",
   "execution_count": null,
   "id": "83cd14c3",
   "metadata": {},
   "outputs": [],
   "source": [
    "#loop_df.head()"
   ]
  },
  {
   "cell_type": "code",
   "execution_count": null,
   "id": "d68b02dd",
   "metadata": {},
   "outputs": [],
   "source": []
  }
 ],
 "metadata": {
  "kernelspec": {
   "display_name": "Python 3",
   "language": "python",
   "name": "python3"
  },
  "language_info": {
   "codemirror_mode": {
    "name": "ipython",
    "version": 3
   },
   "file_extension": ".py",
   "mimetype": "text/x-python",
   "name": "python",
   "nbconvert_exporter": "python",
   "pygments_lexer": "ipython3",
   "version": "3.8.8"
  }
 },
 "nbformat": 4,
 "nbformat_minor": 5
}
