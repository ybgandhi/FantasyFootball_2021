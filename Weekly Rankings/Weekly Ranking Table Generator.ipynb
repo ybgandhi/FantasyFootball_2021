{
 "cells": [
  {
   "cell_type": "code",
   "execution_count": 14,
   "id": "7dcf9e39",
   "metadata": {},
   "outputs": [],
   "source": [
    "import pandas as pd\n",
    "import os\n",
    "import numpy\n"
   ]
  },
  {
   "cell_type": "code",
   "execution_count": 15,
   "id": "d0de0f8a",
   "metadata": {},
   "outputs": [
    {
     "ename": "SyntaxError",
     "evalue": "invalid syntax (<ipython-input-15-f7a23a3eed72>, line 1)",
     "output_type": "error",
     "traceback": [
      "\u001b[0;36m  File \u001b[0;32m\"<ipython-input-15-f7a23a3eed72>\"\u001b[0;36m, line \u001b[0;32m1\u001b[0m\n\u001b[0;31m    base =\u001b[0m\n\u001b[0m           ^\u001b[0m\n\u001b[0;31mSyntaxError\u001b[0m\u001b[0;31m:\u001b[0m invalid syntax\n"
     ]
    }
   ],
   "source": [
    "base = \n",
    "weeks = [\"2\",\"3\"]"
   ]
  },
  {
   "cell_type": "code",
   "execution_count": 16,
   "id": "c3c0a3b2",
   "metadata": {},
   "outputs": [],
   "source": [
    "csv_part1 = \"inputs/Half_PPR_Week_\"\n",
    "csv_part2 = \"_FLX_Rankings.csv\""
   ]
  },
  {
   "cell_type": "code",
   "execution_count": 17,
   "id": "8a5235c0",
   "metadata": {},
   "outputs": [
    {
     "name": "stdout",
     "output_type": "stream",
     "text": [
      "    Team                 Name Position Position Rank  Ceiling  Average  Floor  \\\n",
      "RK                                                                              \n",
      "1    CAR  Christian McCaffrey       RB             1        1      1.3      8   \n",
      "2    MIN          Dalvin Cook       RB             2        1      2.8      8   \n",
      "3     NO         Alvin Kamara       RB             3        1      3.6      8   \n",
      "4     GB        Davante Adams       WR             1        3      4.5     17   \n",
      "5     KC          Tyreek Hill       WR             2        4      5.8     20   \n",
      "..   ...                  ...      ...           ...      ...      ...    ...   \n",
      "425   NE       Matthew Slater       WR           183      373    391.0    419   \n",
      "426  DET        Jared Pinkney       TE           112      369    383.5    398   \n",
      "427  CHI       Nsimba Webster       WR           184      362    395.0    418   \n",
      "428   TB          Deon Yelder       TE           113      373    392.0    411   \n",
      "429  CIN        Trenton Irwin       WR           185      405    407.0    409   \n",
      "\n",
      "     Standard Deviation  \n",
      "RK                       \n",
      "1                   1.0  \n",
      "2                   1.7  \n",
      "3                   1.7  \n",
      "4                   1.6  \n",
      "5                   2.6  \n",
      "..                  ...  \n",
      "425                20.1  \n",
      "426                14.5  \n",
      "427                23.9  \n",
      "428                19.0  \n",
      "429                 2.0  \n",
      "\n",
      "[429 rows x 8 columns]\n",
      "inputs/Half_PPR_Week_2_FLX_Rankings.csv\n",
      "    Team                 Name Position Position Rank  Ceiling  Average  Floor  \\\n",
      "RK                                                                              \n",
      "1    CAR  Christian McCaffrey       RB             1        1      1.0      1   \n",
      "2    MIN          Dalvin Cook       RB             2        2      2.3      4   \n",
      "3    TEN        Derrick Henry       RB             3        2      2.8      3   \n",
      "4     GB        Davante Adams       WR             1        5      5.6      9   \n",
      "5     KC          Tyreek Hill       WR             2        5      5.9      9   \n",
      "..   ...                  ...      ...           ...      ...      ...    ...   \n",
      "309   TB        Scotty Miller       WR           128      287    309.0    331   \n",
      "310  BAL        Tylan Wallace       WR           129      289    317.0    345   \n",
      "311  MIN       Dede Westbrook       WR           130      297    302.5    308   \n",
      "312  ARI        Andy Isabella       WR           131      296    314.0    332   \n",
      "313  DAL          Simi Fehoko       WR           132      302    315.0    328   \n",
      "\n",
      "     Standard Deviation  \n",
      "RK                       \n",
      "1                   0.0  \n",
      "2                   0.6  \n",
      "3                   0.4  \n",
      "4                   1.0  \n",
      "5                   0.8  \n",
      "..                  ...  \n",
      "309                22.0  \n",
      "310                28.0  \n",
      "311                 5.5  \n",
      "312                18.0  \n",
      "313                13.0  \n",
      "\n",
      "[313 rows x 8 columns]\n",
      "inputs/Half_PPR_Week_3_FLX_Rankings.csv\n"
     ]
    },
    {
     "name": "stderr",
     "output_type": "stream",
     "text": [
      "<ipython-input-17-d5b16e595e74>:10: FutureWarning: The default value of regex will change from True to False in a future version.\n",
      "  df[\"Position\"] = df[\"POS\"].str.replace('[^a-zA-Z]','')\n",
      "<ipython-input-17-d5b16e595e74>:10: FutureWarning: The default value of regex will change from True to False in a future version.\n",
      "  df[\"Position\"] = df[\"POS\"].str.replace('[^a-zA-Z]','')\n"
     ]
    }
   ],
   "source": [
    "for x in weeks:\n",
    "    \n",
    "    csv_full = csv_part1 + x + csv_part2\n",
    "    raw_df = pd.read_csv(csv_full)\n",
    "    df = raw_df\n",
    "    ###\n",
    "    #ETL\n",
    "    ##\n",
    "    ## line of script to create Position Column\n",
    "    df[\"Position\"] = df[\"POS\"].str.replace('[^a-zA-Z]','')\n",
    "    ## line of script to create Position Rank Column\n",
    "    df[\"Position Rank\"] = df[\"POS\"].str.extract('(\\d+)',expand=False)\n",
    "    ## Rename columns\n",
    "    df = df.rename(columns={'TEAM':'Team','BEST':'Ceiling',\n",
    "                        'WORST':'Floor','AVG.':'Average',\n",
    "                        'STD.DEV':'Standard Deviation',\n",
    "                       'PLAYER NAME':'Name'})\n",
    "    ## new df to export into csv\n",
    "    new_df = df[[\"RK\",\"Team\",\"Name\",\"Position\",\"Position Rank\",\"Ceiling\",\"Average\",\"Floor\",\"Standard Deviation\"]]\n",
    "    new_df = new_df.set_index(\"RK\")\n",
    "    new_df.to_csv(\"outputs/Week_\" + x + \"_Half_FLX.csv\")\n",
    "    new_df.to_html(\"outputs/Week_\" + x + \"_Half_FLX.html\")\n",
    "\n",
    "    ###\n",
    "    print(new_df)\n",
    "    print(csv_full)\n"
   ]
  },
  {
   "cell_type": "code",
   "execution_count": 20,
   "id": "194d9f90",
   "metadata": {},
   "outputs": [
    {
     "data": {
      "text/plain": [
       "[    Unnamed: 0_level_0               Team                 Name  \\\n",
       "                     RK Unnamed: 1_level_1   Unnamed: 2_level_1   \n",
       " 0                    1                CAR  Christian McCaffrey   \n",
       " 1                    2                MIN          Dalvin Cook   \n",
       " 2                    3                 NO         Alvin Kamara   \n",
       " 3                    4                 GB        Davante Adams   \n",
       " 4                    5                 KC          Tyreek Hill   \n",
       " ..                 ...                ...                  ...   \n",
       " 424                425                 NE       Matthew Slater   \n",
       " 425                426                DET        Jared Pinkney   \n",
       " 426                427                CHI       Nsimba Webster   \n",
       " 427                428                 TB          Deon Yelder   \n",
       " 428                429                CIN        Trenton Irwin   \n",
       " \n",
       "               Position      Position Rank            Ceiling  \\\n",
       "     Unnamed: 3_level_1 Unnamed: 4_level_1 Unnamed: 5_level_1   \n",
       " 0                   RB                  1                  1   \n",
       " 1                   RB                  2                  1   \n",
       " 2                   RB                  3                  1   \n",
       " 3                   WR                  1                  3   \n",
       " 4                   WR                  2                  4   \n",
       " ..                 ...                ...                ...   \n",
       " 424                 WR                183                373   \n",
       " 425                 TE                112                369   \n",
       " 426                 WR                184                362   \n",
       " 427                 TE                113                373   \n",
       " 428                 WR                185                405   \n",
       " \n",
       "                Average              Floor Standard Deviation  \n",
       "     Unnamed: 6_level_1 Unnamed: 7_level_1 Unnamed: 8_level_1  \n",
       " 0                  1.3                  8                1.0  \n",
       " 1                  2.8                  8                1.7  \n",
       " 2                  3.6                  8                1.7  \n",
       " 3                  4.5                 17                1.6  \n",
       " 4                  5.8                 20                2.6  \n",
       " ..                 ...                ...                ...  \n",
       " 424              391.0                419               20.1  \n",
       " 425              383.5                398               14.5  \n",
       " 426              395.0                418               23.9  \n",
       " 427              392.0                411               19.0  \n",
       " 428              407.0                409                2.0  \n",
       " \n",
       " [429 rows x 9 columns]]"
      ]
     },
     "execution_count": 20,
     "metadata": {},
     "output_type": "execute_result"
    }
   ],
   "source": [
    "week_2 = pd.read_html(\"outputs/Week_2_Half_FLX.html\")\n",
    "week_2"
   ]
  },
  {
   "cell_type": "code",
   "execution_count": null,
   "id": "83cd14c3",
   "metadata": {},
   "outputs": [],
   "source": []
  },
  {
   "cell_type": "code",
   "execution_count": null,
   "id": "12de1578",
   "metadata": {},
   "outputs": [],
   "source": []
  },
  {
   "cell_type": "code",
   "execution_count": null,
   "id": "e5e06b86",
   "metadata": {},
   "outputs": [],
   "source": []
  },
  {
   "cell_type": "code",
   "execution_count": null,
   "id": "b10616d1",
   "metadata": {},
   "outputs": [],
   "source": []
  },
  {
   "cell_type": "code",
   "execution_count": null,
   "id": "68466c09",
   "metadata": {},
   "outputs": [],
   "source": []
  },
  {
   "cell_type": "code",
   "execution_count": null,
   "id": "5e6efff5",
   "metadata": {},
   "outputs": [],
   "source": []
  },
  {
   "cell_type": "code",
   "execution_count": null,
   "id": "e5416e96",
   "metadata": {},
   "outputs": [],
   "source": []
  }
 ],
 "metadata": {
  "kernelspec": {
   "display_name": "Python 3",
   "language": "python",
   "name": "python3"
  },
  "language_info": {
   "codemirror_mode": {
    "name": "ipython",
    "version": 3
   },
   "file_extension": ".py",
   "mimetype": "text/x-python",
   "name": "python",
   "nbconvert_exporter": "python",
   "pygments_lexer": "ipython3",
   "version": "3.8.8"
  }
 },
 "nbformat": 4,
 "nbformat_minor": 5
}
