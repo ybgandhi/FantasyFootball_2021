{
 "cells": [
  {
   "cell_type": "code",
   "execution_count": 1,
   "id": "5607e4d3",
   "metadata": {},
   "outputs": [],
   "source": [
    "import pandas as pd\n",
    "import os\n",
    "import numpy\n"
   ]
  },
  {
   "cell_type": "code",
   "execution_count": null,
   "id": "bdc2680c",
   "metadata": {},
   "outputs": [],
   "source": [
    "csv_part1 = \"Half_PPR_Week_\"\n",
    "csv_part2 = \"_FLX_Rankings\"\n",
    "weeks = [2,3]\n"
   ]
  },
  {
   "cell_type": "code",
   "execution_count": null,
   "id": "db6732b6",
   "metadata": {},
   "outputs": [],
   "source": [
    "for x in weeks:\n",
    "    print"
   ]
  }
 ],
 "metadata": {
  "kernelspec": {
   "display_name": "Python 3",
   "language": "python",
   "name": "python3"
  },
  "language_info": {
   "codemirror_mode": {
    "name": "ipython",
    "version": 3
   },
   "file_extension": ".py",
   "mimetype": "text/x-python",
   "name": "python",
   "nbconvert_exporter": "python",
   "pygments_lexer": "ipython3",
   "version": "3.8.8"
  }
 },
 "nbformat": 4,
 "nbformat_minor": 5
}
